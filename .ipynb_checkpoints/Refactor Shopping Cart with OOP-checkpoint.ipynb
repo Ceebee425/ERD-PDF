{
 "cells": [
  {
   "cell_type": "code",
   "execution_count": 13,
   "metadata": {},
   "outputs": [],
   "source": [
    "class ShoppingCart(object):\n",
    "   def __init__(self):\n",
    "       self.total = 0\n",
    "       self.items = {}\n",
    "\n",
    "   def add_item(self, item_name, quantity, price):\n",
    "       self.total += price*quantity\n",
    "       self.items.update({item_name: quantity})\n",
    "\n",
    "   def remove_item(self, item_name, quantity, price):\n",
    "       if item_name in self.items:\n",
    "           if quantity < self.items[item_name] and quantity > 0:\n",
    "               self.items[item_name] -= quantity\n",
    "               self.total -= price*quantity\n",
    "\n",
    "\n",
    "       elif quantity >= self.items[item_name]:\n",
    "           self.total -= price*self.items[item_name]\n",
    "           del self.items[item_name]\n",
    "\n",
    "\n",
    "   def checkout (self, cash_paid):\n",
    "       if cash_paid >= self.total:\n",
    "           return cash_paid - self.total\n",
    "       return \"Cash paid not enough\"\n",
    "\n",
    "   class Shop(ShoppingCart):\n",
    "\n",
    "     def __init__(self):\n",
    "         self.quantity = 100\n",
    "\n",
    "     def remove_item(self):\n",
    "         self.quantity -=1"
   ]
  },
  {
   "cell_type": "code",
   "execution_count": null,
   "metadata": {},
   "outputs": [],
   "source": []
  }
 ],
 "metadata": {
  "kernelspec": {
   "display_name": "Python 3",
   "language": "python",
   "name": "python3"
  },
  "language_info": {
   "codemirror_mode": {
    "name": "ipython",
    "version": 3
   },
   "file_extension": ".py",
   "mimetype": "text/x-python",
   "name": "python",
   "nbconvert_exporter": "python",
   "pygments_lexer": "ipython3",
   "version": "3.8.3"
  }
 },
 "nbformat": 4,
 "nbformat_minor": 4
}
